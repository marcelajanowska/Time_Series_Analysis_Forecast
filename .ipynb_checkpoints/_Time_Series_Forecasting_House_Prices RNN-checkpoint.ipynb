{
 "cells": [
  {
   "cell_type": "markdown",
   "metadata": {},
   "source": [
    "## Loading libraries"
   ]
  },
  {
   "cell_type": "code",
   "execution_count": 1,
   "metadata": {},
   "outputs": [],
   "source": [
    "#  short workbook to convert currency string into float number value\n",
    "import pandas as pd\n",
    "import numpy as np\n",
    "\n",
    "import warnings\n",
    "import matplotlib.pyplot as plt\n",
    "warnings.filterwarnings(\"ignore\")\n",
    "plt.style.use('fivethirtyeight')\n",
    "import statsmodels.api as sm\n",
    "import matplotlib\n",
    "matplotlib.rcParams['axes.labelsize'] = 14\n",
    "matplotlib.rcParams['xtick.labelsize'] = 12\n",
    "matplotlib.rcParams['ytick.labelsize'] = 12\n",
    "matplotlib.rcParams['text.color'] = 'G'\n",
    "from statsmodels.tsa.seasonal import seasonal_decompose"
   ]
  },
  {
   "cell_type": "markdown",
   "metadata": {},
   "source": [
    "## Loading dataset"
   ]
  },
  {
   "cell_type": "code",
   "execution_count": 2,
   "metadata": {},
   "outputs": [],
   "source": [
    "df = pd.read_csv('ma_lga_12345.csv', index_col = 0, parse_dates = True)"
   ]
  },
  {
   "cell_type": "markdown",
   "metadata": {},
   "source": [
    "## Selecting one type of properties\n",
    "\n",
    "Houses with 2-bedrooms"
   ]
  },
  {
   "cell_type": "code",
   "execution_count": 3,
   "metadata": {},
   "outputs": [],
   "source": [
    "df_h2 = df.reset_index()\n",
    "df_h2 = df_h2[(df_h2.type == 'house') & (df_h2.bedrooms == 2)]"
   ]
  },
  {
   "cell_type": "code",
   "execution_count": 4,
   "metadata": {},
   "outputs": [],
   "source": [
    "# reseting index to datetime\n",
    "df_h2 = df_h2.set_index('saledate').drop(['type', 'bedrooms'], axis = 1)"
   ]
  },
  {
   "cell_type": "code",
   "execution_count": 5,
   "metadata": {
    "scrolled": true
   },
   "outputs": [
    {
     "data": {
      "text/html": [
       "<div>\n",
       "<style scoped>\n",
       "    .dataframe tbody tr th:only-of-type {\n",
       "        vertical-align: middle;\n",
       "    }\n",
       "\n",
       "    .dataframe tbody tr th {\n",
       "        vertical-align: top;\n",
       "    }\n",
       "\n",
       "    .dataframe thead th {\n",
       "        text-align: right;\n",
       "    }\n",
       "</style>\n",
       "<table border=\"1\" class=\"dataframe\">\n",
       "  <thead>\n",
       "    <tr style=\"text-align: right;\">\n",
       "      <th></th>\n",
       "      <th>MA</th>\n",
       "    </tr>\n",
       "    <tr>\n",
       "      <th>saledate</th>\n",
       "      <th></th>\n",
       "    </tr>\n",
       "  </thead>\n",
       "  <tbody>\n",
       "    <tr>\n",
       "      <td>2007-09-30</td>\n",
       "      <td>441854</td>\n",
       "    </tr>\n",
       "    <tr>\n",
       "      <td>2007-12-31</td>\n",
       "      <td>441854</td>\n",
       "    </tr>\n",
       "    <tr>\n",
       "      <td>2008-03-31</td>\n",
       "      <td>441854</td>\n",
       "    </tr>\n",
       "    <tr>\n",
       "      <td>2008-06-30</td>\n",
       "      <td>441854</td>\n",
       "    </tr>\n",
       "    <tr>\n",
       "      <td>2008-09-30</td>\n",
       "      <td>451583</td>\n",
       "    </tr>\n",
       "    <tr>\n",
       "      <td>2008-12-31</td>\n",
       "      <td>440256</td>\n",
       "    </tr>\n",
       "    <tr>\n",
       "      <td>2009-03-31</td>\n",
       "      <td>442566</td>\n",
       "    </tr>\n",
       "    <tr>\n",
       "      <td>2009-06-30</td>\n",
       "      <td>446113</td>\n",
       "    </tr>\n",
       "    <tr>\n",
       "      <td>2009-09-30</td>\n",
       "      <td>440123</td>\n",
       "    </tr>\n",
       "    <tr>\n",
       "      <td>2009-12-31</td>\n",
       "      <td>442131</td>\n",
       "    </tr>\n",
       "    <tr>\n",
       "      <td>2010-03-31</td>\n",
       "      <td>459222</td>\n",
       "    </tr>\n",
       "    <tr>\n",
       "      <td>2010-06-30</td>\n",
       "      <td>456822</td>\n",
       "    </tr>\n",
       "    <tr>\n",
       "      <td>2010-09-30</td>\n",
       "      <td>457806</td>\n",
       "    </tr>\n",
       "    <tr>\n",
       "      <td>2010-12-31</td>\n",
       "      <td>459109</td>\n",
       "    </tr>\n",
       "    <tr>\n",
       "      <td>2011-03-31</td>\n",
       "      <td>460758</td>\n",
       "    </tr>\n",
       "    <tr>\n",
       "      <td>2011-06-30</td>\n",
       "      <td>464788</td>\n",
       "    </tr>\n",
       "    <tr>\n",
       "      <td>2011-09-30</td>\n",
       "      <td>467546</td>\n",
       "    </tr>\n",
       "    <tr>\n",
       "      <td>2011-12-31</td>\n",
       "      <td>470333</td>\n",
       "    </tr>\n",
       "    <tr>\n",
       "      <td>2012-03-31</td>\n",
       "      <td>470365</td>\n",
       "    </tr>\n",
       "    <tr>\n",
       "      <td>2012-06-30</td>\n",
       "      <td>469149</td>\n",
       "    </tr>\n",
       "    <tr>\n",
       "      <td>2012-09-30</td>\n",
       "      <td>465919</td>\n",
       "    </tr>\n",
       "    <tr>\n",
       "      <td>2012-12-31</td>\n",
       "      <td>463090</td>\n",
       "    </tr>\n",
       "    <tr>\n",
       "      <td>2013-03-31</td>\n",
       "      <td>451077</td>\n",
       "    </tr>\n",
       "    <tr>\n",
       "      <td>2013-06-30</td>\n",
       "      <td>451516</td>\n",
       "    </tr>\n",
       "    <tr>\n",
       "      <td>2013-09-30</td>\n",
       "      <td>454270</td>\n",
       "    </tr>\n",
       "    <tr>\n",
       "      <td>2013-12-31</td>\n",
       "      <td>456548</td>\n",
       "    </tr>\n",
       "    <tr>\n",
       "      <td>2014-03-31</td>\n",
       "      <td>469920</td>\n",
       "    </tr>\n",
       "    <tr>\n",
       "      <td>2014-06-30</td>\n",
       "      <td>472726</td>\n",
       "    </tr>\n",
       "    <tr>\n",
       "      <td>2014-09-30</td>\n",
       "      <td>475326</td>\n",
       "    </tr>\n",
       "    <tr>\n",
       "      <td>2014-12-31</td>\n",
       "      <td>478413</td>\n",
       "    </tr>\n",
       "    <tr>\n",
       "      <td>2015-03-31</td>\n",
       "      <td>478398</td>\n",
       "    </tr>\n",
       "    <tr>\n",
       "      <td>2015-06-30</td>\n",
       "      <td>477238</td>\n",
       "    </tr>\n",
       "    <tr>\n",
       "      <td>2015-09-30</td>\n",
       "      <td>477330</td>\n",
       "    </tr>\n",
       "    <tr>\n",
       "      <td>2015-12-31</td>\n",
       "      <td>479010</td>\n",
       "    </tr>\n",
       "    <tr>\n",
       "      <td>2016-03-31</td>\n",
       "      <td>482440</td>\n",
       "    </tr>\n",
       "    <tr>\n",
       "      <td>2016-06-30</td>\n",
       "      <td>486436</td>\n",
       "    </tr>\n",
       "    <tr>\n",
       "      <td>2016-09-30</td>\n",
       "      <td>489104</td>\n",
       "    </tr>\n",
       "    <tr>\n",
       "      <td>2016-12-31</td>\n",
       "      <td>491152</td>\n",
       "    </tr>\n",
       "    <tr>\n",
       "      <td>2017-03-31</td>\n",
       "      <td>494544</td>\n",
       "    </tr>\n",
       "    <tr>\n",
       "      <td>2017-06-30</td>\n",
       "      <td>498846</td>\n",
       "    </tr>\n",
       "    <tr>\n",
       "      <td>2017-09-30</td>\n",
       "      <td>504592</td>\n",
       "    </tr>\n",
       "    <tr>\n",
       "      <td>2017-12-31</td>\n",
       "      <td>506578</td>\n",
       "    </tr>\n",
       "    <tr>\n",
       "      <td>2018-03-31</td>\n",
       "      <td>507248</td>\n",
       "    </tr>\n",
       "    <tr>\n",
       "      <td>2018-06-30</td>\n",
       "      <td>506116</td>\n",
       "    </tr>\n",
       "    <tr>\n",
       "      <td>2018-09-30</td>\n",
       "      <td>504318</td>\n",
       "    </tr>\n",
       "    <tr>\n",
       "      <td>2018-12-31</td>\n",
       "      <td>506001</td>\n",
       "    </tr>\n",
       "    <tr>\n",
       "      <td>2019-03-31</td>\n",
       "      <td>496133</td>\n",
       "    </tr>\n",
       "    <tr>\n",
       "      <td>2019-06-30</td>\n",
       "      <td>500158</td>\n",
       "    </tr>\n",
       "    <tr>\n",
       "      <td>2019-09-30</td>\n",
       "      <td>510712</td>\n",
       "    </tr>\n",
       "  </tbody>\n",
       "</table>\n",
       "</div>"
      ],
      "text/plain": [
       "                MA\n",
       "saledate          \n",
       "2007-09-30  441854\n",
       "2007-12-31  441854\n",
       "2008-03-31  441854\n",
       "2008-06-30  441854\n",
       "2008-09-30  451583\n",
       "2008-12-31  440256\n",
       "2009-03-31  442566\n",
       "2009-06-30  446113\n",
       "2009-09-30  440123\n",
       "2009-12-31  442131\n",
       "2010-03-31  459222\n",
       "2010-06-30  456822\n",
       "2010-09-30  457806\n",
       "2010-12-31  459109\n",
       "2011-03-31  460758\n",
       "2011-06-30  464788\n",
       "2011-09-30  467546\n",
       "2011-12-31  470333\n",
       "2012-03-31  470365\n",
       "2012-06-30  469149\n",
       "2012-09-30  465919\n",
       "2012-12-31  463090\n",
       "2013-03-31  451077\n",
       "2013-06-30  451516\n",
       "2013-09-30  454270\n",
       "2013-12-31  456548\n",
       "2014-03-31  469920\n",
       "2014-06-30  472726\n",
       "2014-09-30  475326\n",
       "2014-12-31  478413\n",
       "2015-03-31  478398\n",
       "2015-06-30  477238\n",
       "2015-09-30  477330\n",
       "2015-12-31  479010\n",
       "2016-03-31  482440\n",
       "2016-06-30  486436\n",
       "2016-09-30  489104\n",
       "2016-12-31  491152\n",
       "2017-03-31  494544\n",
       "2017-06-30  498846\n",
       "2017-09-30  504592\n",
       "2017-12-31  506578\n",
       "2018-03-31  507248\n",
       "2018-06-30  506116\n",
       "2018-09-30  504318\n",
       "2018-12-31  506001\n",
       "2019-03-31  496133\n",
       "2019-06-30  500158\n",
       "2019-09-30  510712"
      ]
     },
     "execution_count": 5,
     "metadata": {},
     "output_type": "execute_result"
    }
   ],
   "source": [
    "df_h2"
   ]
  },
  {
   "cell_type": "markdown",
   "metadata": {},
   "source": [
    "## EDA"
   ]
  },
  {
   "cell_type": "markdown",
   "metadata": {},
   "source": [
    "#### Seasonal decomposition"
   ]
  },
  {
   "cell_type": "code",
   "execution_count": 6,
   "metadata": {},
   "outputs": [],
   "source": [
    "from statsmodels.tsa.seasonal import seasonal_decompose"
   ]
  },
  {
   "cell_type": "code",
   "execution_count": 7,
   "metadata": {},
   "outputs": [],
   "source": [
    "decomposition = seasonal_decompose(df_h2['MA'], model='multiplicative')"
   ]
  },
  {
   "cell_type": "markdown",
   "metadata": {},
   "source": [
    "Decomposed data show the upward trend over yeear and distinct seasonality during each year"
   ]
  },
  {
   "cell_type": "code",
   "execution_count": 8,
   "metadata": {
    "scrolled": true
   },
   "outputs": [
    {
     "data": {
      "image/png": "[encoded data removed]",
      "text/plain": [
       "<Figure size 432x288 with 4 Axes>"
      ]
     },
     "metadata": {
      "needs_background": "light"
     },
     "output_type": "display_data"
    }
   ],
   "source": [
    "decomposition.plot();"
   ]
  },
  {
   "cell_type": "code",
   "execution_count": 9,
   "metadata": {
    "scrolled": false
   },
   "outputs": [
    {
     "data": {
      "image/png": "[encoded data removed]",
      "text/plain": [
       "<Figure size 864x576 with 1 Axes>"
      ]
     },
     "metadata": {
      "needs_background": "light"
     },
     "output_type": "display_data"
    }
   ],
   "source": [
    "decomposition.seasonal.plot(figsize = (12,8));"
   ]
  },
  {
   "cell_type": "markdown",
   "metadata": {},
   "source": [
    "#### Data length and data period"
   ]
  },
  {
   "cell_type": "code",
   "execution_count": 10,
   "metadata": {},
   "outputs": [
    {
     "data": {
      "text/plain": [
       "49"
      ]
     },
     "execution_count": 10,
     "metadata": {},
     "output_type": "execute_result"
    }
   ],
   "source": [
    "# number of data points\n",
    "len(df_h2['MA'])"
   ]
  },
  {
   "cell_type": "markdown",
   "metadata": {},
   "source": [
    "Data is not completed for the first and the last year. In year 2007 we have only data for two last quarters and in year 2019 we have only data for 3 first quarters. For data completeness I removed data in 2007.\n",
    "My train data will till end of 2018 and my test data will be year 2019."
   ]
  },
  {
   "cell_type": "code",
   "execution_count": 11,
   "metadata": {
    "scrolled": true
   },
   "outputs": [
    {
     "data": {
      "text/html": [
       "<div>\n",
       "<style scoped>\n",
       "    .dataframe tbody tr th:only-of-type {\n",
       "        vertical-align: middle;\n",
       "    }\n",
       "\n",
       "    .dataframe tbody tr th {\n",
       "        vertical-align: top;\n",
       "    }\n",
       "\n",
       "    .dataframe thead th {\n",
       "        text-align: right;\n",
       "    }\n",
       "</style>\n",
       "<table border=\"1\" class=\"dataframe\">\n",
       "  <thead>\n",
       "    <tr style=\"text-align: right;\">\n",
       "      <th></th>\n",
       "      <th>MA</th>\n",
       "    </tr>\n",
       "    <tr>\n",
       "      <th>saledate</th>\n",
       "      <th></th>\n",
       "    </tr>\n",
       "  </thead>\n",
       "  <tbody>\n",
       "    <tr>\n",
       "      <td>2007-09-30</td>\n",
       "      <td>441854</td>\n",
       "    </tr>\n",
       "    <tr>\n",
       "      <td>2007-12-31</td>\n",
       "      <td>441854</td>\n",
       "    </tr>\n",
       "    <tr>\n",
       "      <td>2008-03-31</td>\n",
       "      <td>441854</td>\n",
       "    </tr>\n",
       "    <tr>\n",
       "      <td>2008-06-30</td>\n",
       "      <td>441854</td>\n",
       "    </tr>\n",
       "    <tr>\n",
       "      <td>2008-09-30</td>\n",
       "      <td>451583</td>\n",
       "    </tr>\n",
       "    <tr>\n",
       "      <td>2008-12-31</td>\n",
       "      <td>440256</td>\n",
       "    </tr>\n",
       "    <tr>\n",
       "      <td>2009-03-31</td>\n",
       "      <td>442566</td>\n",
       "    </tr>\n",
       "    <tr>\n",
       "      <td>2009-06-30</td>\n",
       "      <td>446113</td>\n",
       "    </tr>\n",
       "  </tbody>\n",
       "</table>\n",
       "</div>"
      ],
      "text/plain": [
       "                MA\n",
       "saledate          \n",
       "2007-09-30  441854\n",
       "2007-12-31  441854\n",
       "2008-03-31  441854\n",
       "2008-06-30  441854\n",
       "2008-09-30  451583\n",
       "2008-12-31  440256\n",
       "2009-03-31  442566\n",
       "2009-06-30  446113"
      ]
     },
     "execution_count": 11,
     "metadata": {},
     "output_type": "execute_result"
    }
   ],
   "source": [
    "df_h2[:8]"
   ]
  },
  {
   "cell_type": "code",
   "execution_count": 12,
   "metadata": {
    "scrolled": true
   },
   "outputs": [
    {
     "data": {
      "text/html": [
       "<div>\n",
       "<style scoped>\n",
       "    .dataframe tbody tr th:only-of-type {\n",
       "        vertical-align: middle;\n",
       "    }\n",
       "\n",
       "    .dataframe tbody tr th {\n",
       "        vertical-align: top;\n",
       "    }\n",
       "\n",
       "    .dataframe thead th {\n",
       "        text-align: right;\n",
       "    }\n",
       "</style>\n",
       "<table border=\"1\" class=\"dataframe\">\n",
       "  <thead>\n",
       "    <tr style=\"text-align: right;\">\n",
       "      <th></th>\n",
       "      <th>MA</th>\n",
       "    </tr>\n",
       "    <tr>\n",
       "      <th>saledate</th>\n",
       "      <th></th>\n",
       "    </tr>\n",
       "  </thead>\n",
       "  <tbody>\n",
       "    <tr>\n",
       "      <td>2018-09-30</td>\n",
       "      <td>504318</td>\n",
       "    </tr>\n",
       "    <tr>\n",
       "      <td>2018-12-31</td>\n",
       "      <td>506001</td>\n",
       "    </tr>\n",
       "    <tr>\n",
       "      <td>2019-03-31</td>\n",
       "      <td>496133</td>\n",
       "    </tr>\n",
       "    <tr>\n",
       "      <td>2019-06-30</td>\n",
       "      <td>500158</td>\n",
       "    </tr>\n",
       "    <tr>\n",
       "      <td>2019-09-30</td>\n",
       "      <td>510712</td>\n",
       "    </tr>\n",
       "  </tbody>\n",
       "</table>\n",
       "</div>"
      ],
      "text/plain": [
       "                MA\n",
       "saledate          \n",
       "2018-09-30  504318\n",
       "2018-12-31  506001\n",
       "2019-03-31  496133\n",
       "2019-06-30  500158\n",
       "2019-09-30  510712"
      ]
     },
     "execution_count": 12,
     "metadata": {},
     "output_type": "execute_result"
    }
   ],
   "source": [
    "df_h2.tail()"
   ]
  },
  {
   "cell_type": "code",
   "execution_count": 13,
   "metadata": {},
   "outputs": [],
   "source": [
    "# removing data for 2007\n",
    "df_h2 = df_h2[2:]"
   ]
  },
  {
   "cell_type": "markdown",
   "metadata": {},
   "source": [
    "## Creating RNN model"
   ]
  },
  {
   "cell_type": "markdown",
   "metadata": {},
   "source": [
    "#### Train & Test data"
   ]
  },
  {
   "cell_type": "code",
   "execution_count": 14,
   "metadata": {},
   "outputs": [
    {
     "data": {
      "text/plain": [
       "44"
      ]
     },
     "execution_count": 14,
     "metadata": {},
     "output_type": "execute_result"
    }
   ],
   "source": [
    "len(df_h2['MA']) - 3"
   ]
  },
  {
   "cell_type": "code",
   "execution_count": 15,
   "metadata": {},
   "outputs": [],
   "source": [
    "train = df_h2.iloc[:44]\n",
    "test = df_h2.iloc[44:]"
   ]
  },
  {
   "cell_type": "markdown",
   "metadata": {},
   "source": [
    "#### Scaling data"
   ]
  },
  {
   "cell_type": "code",
   "execution_count": 16,
   "metadata": {},
   "outputs": [],
   "source": [
    "from sklearn.preprocessing import MinMaxScaler"
   ]
  },
  {
   "cell_type": "code",
   "execution_count": 17,
   "metadata": {},
   "outputs": [],
   "source": [
    "scaler = MinMaxScaler()\n",
    "\n",
    "# fit to the training data\n",
    "scaler.fit(train)\n",
    "\n",
    "# transform training data\n",
    "scaled_train = scaler.transform(train)\n",
    "\n",
    "# transform test data\n",
    "scaled_test = scaler.transform(test)"
   ]
  },
  {
   "cell_type": "markdown",
   "metadata": {},
   "source": [
    "The next part will feed in the batches of data into the RNN model so that [t1, t2, t3] ==> t4\n",
    "\n",
    "Keras have the preprocessing object that puts the data into this format"
   ]
  },
  {
   "cell_type": "code",
   "execution_count": 18,
   "metadata": {},
   "outputs": [],
   "source": [
    "from keras.preprocessing.sequence import TimeseriesGenerator"
   ]
  },
  {
   "cell_type": "code",
   "execution_count": 20,
   "metadata": {},
   "outputs": [
    {
     "data": {
      "text/plain": [
       "array([[0.83441341],\n",
       "       [0.89437616],\n",
       "       [1.05160521]])"
      ]
     },
     "execution_count": 20,
     "metadata": {},
     "output_type": "execute_result"
    }
   ],
   "source": [
    "scaled_test\n",
    "# in scaled test data we may come across the data point that is larger than 1 (because we used the train data for the fit)\n",
    "# it is not a problem since everything is more or less the same in the scale of 0 to 1"
   ]
  },
  {
   "cell_type": "code",
   "execution_count": 133,
   "metadata": {},
   "outputs": [],
   "source": [
    "# numbr of input is the one full cycle of the seasonality\n",
    "# for my quarterly data that should be 4 to pick up on the yearly seasonality\n",
    "\n",
    "# n_features specifies how many columns we have\n",
    "n_input = 4\n",
    "n_features = 1"
   ]
  },
  {
   "cell_type": "code",
   "execution_count": 134,
   "metadata": {},
   "outputs": [],
   "source": [
    "# pass the data to generator\n",
    "# data = scaled_train and target = scaled_train\n",
    "\n",
    "# batch size refers to how many consecutive batches the timeseries generator produces at one run\n",
    "# with batch size 2 we have two batches of data 1-4 and 2-5 and targets 5 and 6\n",
    "# typically in RNN smaller batches mean better training\n",
    "\n",
    "generator = TimeseriesGenerator(scaled_train, scaled_train, length= n_input, batch_size= 1)"
   ]
  },
  {
   "cell_type": "code",
   "execution_count": 135,
   "metadata": {},
   "outputs": [
    {
     "data": {
      "text/plain": [
       "44"
      ]
     },
     "execution_count": 135,
     "metadata": {},
     "output_type": "execute_result"
    }
   ],
   "source": [
    "len(scaled_train)"
   ]
  },
  {
   "cell_type": "code",
   "execution_count": 136,
   "metadata": {},
   "outputs": [
    {
     "data": {
      "text/plain": [
       "40"
      ]
     },
     "execution_count": 136,
     "metadata": {},
     "output_type": "execute_result"
    }
   ],
   "source": [
    "len(generator) # this is the len of the scaled train - the number of features"
   ]
  },
  {
   "cell_type": "code",
   "execution_count": 137,
   "metadata": {},
   "outputs": [
    {
     "data": {
      "text/plain": [
       "array([[0.02578771],\n",
       "       [0.02578771],\n",
       "       [0.17072626],\n",
       "       [0.00198138],\n",
       "       [0.03639479]])"
      ]
     },
     "execution_count": 137,
     "metadata": {},
     "output_type": "execute_result"
    }
   ],
   "source": [
    "scaled_train[:5]"
   ]
  },
  {
   "cell_type": "code",
   "execution_count": 138,
   "metadata": {},
   "outputs": [],
   "source": [
    "X, y = generator[0]"
   ]
  },
  {
   "cell_type": "code",
   "execution_count": 139,
   "metadata": {},
   "outputs": [
    {
     "data": {
      "text/plain": [
       "array([[[0.02578771],\n",
       "        [0.02578771],\n",
       "        [0.17072626],\n",
       "        [0.00198138]]])"
      ]
     },
     "execution_count": 139,
     "metadata": {},
     "output_type": "execute_result"
    }
   ],
   "source": [
    "X"
   ]
  },
  {
   "cell_type": "code",
   "execution_count": 140,
   "metadata": {
    "scrolled": true
   },
   "outputs": [
    {
     "data": {
      "text/plain": [
       "array([[0.03639479]])"
      ]
     },
     "execution_count": 140,
     "metadata": {},
     "output_type": "execute_result"
    }
   ],
   "source": [
    "y"
   ]
  },
  {
   "cell_type": "markdown",
   "metadata": {},
   "source": [
    "#### RNN model"
   ]
  },
  {
   "cell_type": "code",
   "execution_count": 141,
   "metadata": {},
   "outputs": [],
   "source": [
    "from keras.models import Sequential\n",
    "from keras.layers import Dense\n",
    "from keras.layers import LSTM"
   ]
  },
  {
   "cell_type": "code",
   "execution_count": 142,
   "metadata": {},
   "outputs": [],
   "source": [
    "model = Sequential()\n",
    "\n",
    "model.add(LSTM(150, activation = 'relu', input_shape = (n_input, n_features)))\n",
    "model.add(Dense(1))\n",
    "model.compile(optimizer = 'adam', loss = 'mse')"
   ]
  },
  {
   "cell_type": "code",
   "execution_count": 110,
   "metadata": {},
   "outputs": [
    {
     "name": "stdout",
     "output_type": "stream",
     "text": [
      "Model: \"sequential_6\"\n",
      "_________________________________________________________________\n",
      "Layer (type)                 Output Shape              Param #   \n",
      "=================================================================\n",
      "lstm_6 (LSTM)                (None, 150)               91200     \n",
      "_________________________________________________________________\n",
      "dense_5 (Dense)              (None, 1)                 151       \n",
      "=================================================================\n",
      "Total params: 91,351\n",
      "Trainable params: 91,351\n",
      "Non-trainable params: 0\n",
      "_________________________________________________________________\n"
     ]
    }
   ],
   "source": [
    "model.summary()"
   ]
  },
  {
   "cell_type": "code",
   "execution_count": 143,
   "metadata": {},
   "outputs": [
    {
     "name": "stdout",
     "output_type": "stream",
     "text": [
      "Epoch 1/40\n",
      "40/40 [==============================] - 0s 8ms/step - loss: 0.1293\n",
      "Epoch 2/40\n",
      "40/40 [==============================] - 0s 2ms/step - loss: 0.0209\n",
      "Epoch 3/40\n",
      "40/40 [==============================] - 0s 2ms/step - loss: 0.0155\n",
      "Epoch 4/40\n",
      "40/40 [==============================] - 0s 3ms/step - loss: 0.0149\n",
      "Epoch 5/40\n",
      "40/40 [==============================] - 0s 4ms/step - loss: 0.0133\n",
      "Epoch 6/40\n",
      "40/40 [==============================] - 0s 8ms/step - loss: 0.0120\n",
      "Epoch 7/40\n",
      "40/40 [==============================] - 0s 11ms/step - loss: 0.0129\n",
      "Epoch 8/40\n",
      "40/40 [==============================] - 0s 11ms/step - loss: 0.0125\n",
      "Epoch 9/40\n",
      "40/40 [==============================] - 0s 11ms/step - loss: 0.0118\n",
      "Epoch 10/40\n",
      "40/40 [==============================] - 0s 7ms/step - loss: 0.0114\n",
      "Epoch 11/40\n",
      "40/40 [==============================] - 0s 5ms/step - loss: 0.0115\n",
      "Epoch 12/40\n",
      "40/40 [==============================] - 0s 5ms/step - loss: 0.0117\n",
      "Epoch 13/40\n",
      "40/40 [==============================] - 0s 4ms/step - loss: 0.0118\n",
      "Epoch 14/40\n",
      "40/40 [==============================] - 0s 4ms/step - loss: 0.0106\n",
      "Epoch 15/40\n",
      "40/40 [==============================] - 0s 4ms/step - loss: 0.0122\n",
      "Epoch 16/40\n",
      "40/40 [==============================] - 0s 4ms/step - loss: 0.0106\n",
      "Epoch 17/40\n",
      "40/40 [==============================] - 0s 3ms/step - loss: 0.0108\n",
      "Epoch 18/40\n",
      "40/40 [==============================] - 0s 3ms/step - loss: 0.0127\n",
      "Epoch 19/40\n",
      "40/40 [==============================] - 0s 3ms/step - loss: 0.0115\n",
      "Epoch 20/40\n",
      "40/40 [==============================] - 0s 4ms/step - loss: 0.0112\n",
      "Epoch 21/40\n",
      "40/40 [==============================] - 0s 3ms/step - loss: 0.0102\n",
      "Epoch 22/40\n",
      "40/40 [==============================] - 0s 3ms/step - loss: 0.0099\n",
      "Epoch 23/40\n",
      "40/40 [==============================] - 0s 3ms/step - loss: 0.0101\n",
      "Epoch 24/40\n",
      "40/40 [==============================] - 0s 3ms/step - loss: 0.0092\n",
      "Epoch 25/40\n",
      "40/40 [==============================] - 0s 4ms/step - loss: 0.0110\n",
      "Epoch 26/40\n",
      "40/40 [==============================] - 0s 3ms/step - loss: 0.0101\n",
      "Epoch 27/40\n",
      "40/40 [==============================] - 0s 3ms/step - loss: 0.0090\n",
      "Epoch 28/40\n",
      "40/40 [==============================] - 0s 4ms/step - loss: 0.0084\n",
      "Epoch 29/40\n",
      "40/40 [==============================] - 0s 3ms/step - loss: 0.0103\n",
      "Epoch 30/40\n",
      "40/40 [==============================] - 0s 4ms/step - loss: 0.0078\n",
      "Epoch 31/40\n",
      "40/40 [==============================] - 0s 3ms/step - loss: 0.0088\n",
      "Epoch 32/40\n",
      "40/40 [==============================] - 0s 4ms/step - loss: 0.0086\n",
      "Epoch 33/40\n",
      "40/40 [==============================] - 0s 4ms/step - loss: 0.0085\n",
      "Epoch 34/40\n",
      "40/40 [==============================] - 0s 4ms/step - loss: 0.0079\n",
      "Epoch 35/40\n",
      "40/40 [==============================] - 0s 5ms/step - loss: 0.0082\n",
      "Epoch 36/40\n",
      "40/40 [==============================] - 0s 6ms/step - loss: 0.0093\n",
      "Epoch 37/40\n",
      "40/40 [==============================] - 0s 9ms/step - loss: 0.0080\n",
      "Epoch 38/40\n",
      "40/40 [==============================] - 1s 13ms/step - loss: 0.0071\n",
      "Epoch 39/40\n",
      "40/40 [==============================] - 0s 11ms/step - loss: 0.0078\n",
      "Epoch 40/40\n",
      "40/40 [==============================] - 0s 9ms/step - loss: 0.0072\n"
     ]
    },
    {
     "data": {
      "text/plain": [
       "<keras.callbacks.callbacks.History at 0x14dfe08ebc8>"
      ]
     },
     "execution_count": 143,
     "metadata": {},
     "output_type": "execute_result"
    }
   ],
   "source": [
    "model.fit_generator(generator, epochs = 40)"
   ]
  },
  {
   "cell_type": "code",
   "execution_count": 144,
   "metadata": {},
   "outputs": [
    {
     "data": {
      "text/plain": [
       "dict_keys(['loss'])"
      ]
     },
     "execution_count": 144,
     "metadata": {},
     "output_type": "execute_result"
    }
   ],
   "source": [
    "model.history.history.keys()"
   ]
  },
  {
   "cell_type": "code",
   "execution_count": 145,
   "metadata": {},
   "outputs": [
    {
     "data": {
      "text/plain": [
       "[<matplotlib.lines.Line2D at 0x14dff9438c8>]"
      ]
     },
     "execution_count": 145,
     "metadata": {},
     "output_type": "execute_result"
    },
    {
     "data": {
      "image/png": "[encoded data removed]",
      "text/plain": [
       "<Figure size 432x288 with 1 Axes>"
      ]
     },
     "metadata": {
      "needs_background": "light"
     },
     "output_type": "display_data"
    }
   ],
   "source": [
    "plt.plot(range(len(model.history.history['loss'])), model.history.history['loss'])"
   ]
  },
  {
   "cell_type": "markdown",
   "metadata": {},
   "source": [
    "#### Creating validation set"
   ]
  },
  {
   "cell_type": "code",
   "execution_count": 114,
   "metadata": {},
   "outputs": [],
   "source": [
    "## our model right now sees 4 previous steps and predict step 5"
   ]
  },
  {
   "cell_type": "code",
   "execution_count": 147,
   "metadata": {},
   "outputs": [],
   "source": [
    "# this are last four points of the training set\n",
    "first_eval_batch = scaled_train[-4:]"
   ]
  },
  {
   "cell_type": "code",
   "execution_count": 148,
   "metadata": {},
   "outputs": [
    {
     "data": {
      "text/plain": [
       "array([[1.        ],\n",
       "       [0.98313594],\n",
       "       [0.95635009],\n",
       "       [0.98142272]])"
      ]
     },
     "execution_count": 148,
     "metadata": {},
     "output_type": "execute_result"
    }
   ],
   "source": [
    "first_eval_batch"
   ]
  },
  {
   "cell_type": "code",
   "execution_count": 150,
   "metadata": {},
   "outputs": [],
   "source": [
    "first_eval_batch = first_eval_batch.reshape((1, n_input, n_features))"
   ]
  },
  {
   "cell_type": "code",
   "execution_count": 151,
   "metadata": {},
   "outputs": [
    {
     "data": {
      "text/plain": [
       "array([[1.0142369]], dtype=float32)"
      ]
     },
     "execution_count": 151,
     "metadata": {},
     "output_type": "execute_result"
    }
   ],
   "source": [
    "model.predict(first_eval_batch)"
   ]
  },
  {
   "cell_type": "markdown",
   "metadata": {},
   "source": [
    "## Forecast with RNN"
   ]
  },
  {
   "cell_type": "code",
   "execution_count": 152,
   "metadata": {},
   "outputs": [],
   "source": [
    "test_predictions = [] # holding predicitons\n",
    "\n",
    "# the last n-input points from the training set\n",
    "first_eval_batch = scaled_train[-n_input:] "
   ]
  },
  {
   "cell_type": "code",
   "execution_count": 153,
   "metadata": {},
   "outputs": [],
   "source": [
    "current_batch = first_eval_batch.reshape((1, n_input, n_features))"
   ]
  },
  {
   "cell_type": "code",
   "execution_count": 154,
   "metadata": {},
   "outputs": [],
   "source": [
    "for i in range(len(test)):\n",
    "    \n",
    "    # one time step ahead of historical points\n",
    "    current_pred = model.predict(current_batch)[0] #having the right 1 dim format\n",
    "    \n",
    "    # store that prediction\n",
    "    test_predictions.append(current_pred)\n",
    "    \n",
    "    #update batch to include the prediction\n",
    "    # drop the first value of the current batch and add the prediction\n",
    "    current_batch = np.append(current_batch[:,1:,:],[[current_pred]], axis = 1)"
   ]
  },
  {
   "cell_type": "code",
   "execution_count": 155,
   "metadata": {},
   "outputs": [
    {
     "data": {
      "text/plain": [
       "[array([1.0142369], dtype=float32),\n",
       " array([1.0530746], dtype=float32),\n",
       " array([1.095572], dtype=float32)]"
      ]
     },
     "execution_count": 155,
     "metadata": {},
     "output_type": "execute_result"
    }
   ],
   "source": [
    "test_predictions"
   ]
  },
  {
   "cell_type": "code",
   "execution_count": 156,
   "metadata": {},
   "outputs": [
    {
     "data": {
      "text/plain": [
       "array([[0.83441341],\n",
       "       [0.89437616],\n",
       "       [1.05160521]])"
      ]
     },
     "execution_count": 156,
     "metadata": {},
     "output_type": "execute_result"
    }
   ],
   "source": [
    "scaled_test"
   ]
  },
  {
   "cell_type": "code",
   "execution_count": 157,
   "metadata": {},
   "outputs": [],
   "source": [
    "true_predictions = scaler.inverse_transform(test_predictions)"
   ]
  },
  {
   "cell_type": "code",
   "execution_count": 158,
   "metadata": {},
   "outputs": [
    {
     "data": {
      "text/plain": [
       "array([[508203.65372705],\n",
       "       [510810.63241172],\n",
       "       [513663.27014971]])"
      ]
     },
     "execution_count": 158,
     "metadata": {},
     "output_type": "execute_result"
    }
   ],
   "source": [
    "true_predictions"
   ]
  },
  {
   "cell_type": "code",
   "execution_count": 159,
   "metadata": {
    "scrolled": true
   },
   "outputs": [],
   "source": [
    "test['Predictions'] = true_predictions"
   ]
  },
  {
   "cell_type": "code",
   "execution_count": 160,
   "metadata": {},
   "outputs": [
    {
     "data": {
      "text/plain": [
       "<matplotlib.axes._subplots.AxesSubplot at 0x14df9deb608>"
      ]
     },
     "execution_count": 160,
     "metadata": {},
     "output_type": "execute_result"
    },
    {
     "data": {
      "image/png": "[encoded data removed]",
      "text/plain": [
       "<Figure size 864x576 with 1 Axes>"
      ]
     },
     "metadata": {
      "needs_background": "light"
     },
     "output_type": "display_data"
    }
   ],
   "source": [
    "test.plot(figsize = (12,8))"
   ]
  },
  {
   "cell_type": "code",
   "execution_count": null,
   "metadata": {},
   "outputs": [],
   "source": [
    "# model.save('modelRNN1.h5')"
   ]
  },
  {
   "cell_type": "code",
   "execution_count": 161,
   "metadata": {},
   "outputs": [
    {
     "name": "stdout",
     "output_type": "stream",
     "text": [
      "Error value: 9449.678199004204\n",
      "Mean predictions value 510892.5187628269\n"
     ]
    }
   ],
   "source": [
    "# check the error \n",
    "\n",
    "from statsmodels.tools.eval_measures import rmse\n",
    "\n",
    "error = rmse(test['MA'], test['Predictions'])\n",
    "print(f\"Error value: {error}\")\n",
    "print(f\"Mean predictions value {test['Predictions'].mean()}\")"
   ]
  },
  {
   "cell_type": "code",
   "execution_count": 163,
   "metadata": {},
   "outputs": [
    {
     "name": "stdout",
     "output_type": "stream",
     "text": [
      "The avg value of the test set: 502334.3333333333\n"
     ]
    }
   ],
   "source": [
    "# what is the scale of the error\n",
    "mean_test = test.MA.mean()\n",
    "\n",
    "print(f\"The avg value of the test set: {mean_test}\")"
   ]
  },
  {
   "cell_type": "markdown",
   "metadata": {},
   "source": [
    "## Retrain on the whole dataset"
   ]
  },
  {
   "cell_type": "markdown",
   "metadata": {},
   "source": [
    "## Forecast a year into the future"
   ]
  }
 ],
 "metadata": {
  "kernelspec": {
   "display_name": "Python 3",
   "language": "python",
   "name": "python3"
  },
  "language_info": {
   "codemirror_mode": {
    "name": "ipython",
    "version": 3
   },
   "file_extension": ".py",
   "mimetype": "text/x-python",
   "name": "python",
   "nbconvert_exporter": "python",
   "pygments_lexer": "ipython3",
   "version": "3.7.4"
  }
 },
 "nbformat": 4,
 "nbformat_minor": 2
}
