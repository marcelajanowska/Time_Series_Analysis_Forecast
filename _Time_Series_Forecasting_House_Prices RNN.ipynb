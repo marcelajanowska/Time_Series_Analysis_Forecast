{
 "cells": [
  {
   "cell_type": "markdown",
   "metadata": {},
   "source": [
    "## Loading libraries"
   ]
  },
  {
   "cell_type": "code",
   "execution_count": 4,
   "metadata": {},
   "outputs": [],
   "source": [
    "#  short workbook to convert currency string into float number value\n",
    "import pandas as pd\n",
    "import numpy as np\n",
    "\n",
    "import warnings\n",
    "import matplotlib.pyplot as plt\n",
    "warnings.filterwarnings(\"ignore\")\n",
    "plt.style.use('fivethirtyeight')\n",
    "import statsmodels.api as sm\n",
    "import matplotlib\n",
    "matplotlib.rcParams['axes.labelsize'] = 14\n",
    "matplotlib.rcParams['xtick.labelsize'] = 12\n",
    "matplotlib.rcParams['ytick.labelsize'] = 12\n",
    "matplotlib.rcParams['text.color'] = 'G'\n",
    "from statsmodels.tsa.seasonal import seasonal_decompose"
   ]
  },
  {
   "cell_type": "markdown",
   "metadata": {},
   "source": [
    "## Loading dataset"
   ]
  },
  {
   "cell_type": "code",
   "execution_count": 5,
   "metadata": {},
   "outputs": [],
   "source": [
    "df = pd.read_csv('ma_lga_12345.csv', index_col = 0, parse_dates = True)"
   ]
  },
  {
   "cell_type": "markdown",
   "metadata": {},
   "source": [
    "## Selecting one type of properties\n",
    "\n",
    "Houses with 2-bedrooms"
   ]
  },
  {
   "cell_type": "code",
   "execution_count": 6,
   "metadata": {},
   "outputs": [],
   "source": [
    "df_h2 = df.reset_index()\n",
    "df_h2 = df_h2[(df_h2.type == 'house') & (df_h2.bedrooms == 2)]"
   ]
  },
  {
   "cell_type": "code",
   "execution_count": 7,
   "metadata": {},
   "outputs": [],
   "source": [
    "# reseting index to datetime\n",
    "df_h2 = df_h2.set_index('saledate').drop(['type', 'bedrooms'], axis = 1)"
   ]
  },
  {
   "cell_type": "code",
   "execution_count": 8,
   "metadata": {
    "scrolled": true
   },
   "outputs": [
    {
     "data": {
      "text/html": [
       "<div>\n",
       "<style scoped>\n",
       "    .dataframe tbody tr th:only-of-type {\n",
       "        vertical-align: middle;\n",
       "    }\n",
       "\n",
       "    .dataframe tbody tr th {\n",
       "        vertical-align: top;\n",
       "    }\n",
       "\n",
       "    .dataframe thead th {\n",
       "        text-align: right;\n",
       "    }\n",
       "</style>\n",
       "<table border=\"1\" class=\"dataframe\">\n",
       "  <thead>\n",
       "    <tr style=\"text-align: right;\">\n",
       "      <th></th>\n",
       "      <th>MA</th>\n",
       "    </tr>\n",
       "    <tr>\n",
       "      <th>saledate</th>\n",
       "      <th></th>\n",
       "    </tr>\n",
       "  </thead>\n",
       "  <tbody>\n",
       "    <tr>\n",
       "      <td>2007-09-30</td>\n",
       "      <td>441854</td>\n",
       "    </tr>\n",
       "    <tr>\n",
       "      <td>2007-12-31</td>\n",
       "      <td>441854</td>\n",
       "    </tr>\n",
       "    <tr>\n",
       "      <td>2008-03-31</td>\n",
       "      <td>441854</td>\n",
       "    </tr>\n",
       "    <tr>\n",
       "      <td>2008-06-30</td>\n",
       "      <td>441854</td>\n",
       "    </tr>\n",
       "    <tr>\n",
       "      <td>2008-09-30</td>\n",
       "      <td>451583</td>\n",
       "    </tr>\n",
       "    <tr>\n",
       "      <td>2008-12-31</td>\n",
       "      <td>440256</td>\n",
       "    </tr>\n",
       "    <tr>\n",
       "      <td>2009-03-31</td>\n",
       "      <td>442566</td>\n",
       "    </tr>\n",
       "    <tr>\n",
       "      <td>2009-06-30</td>\n",
       "      <td>446113</td>\n",
       "    </tr>\n",
       "    <tr>\n",
       "      <td>2009-09-30</td>\n",
       "      <td>440123</td>\n",
       "    </tr>\n",
       "    <tr>\n",
       "      <td>2009-12-31</td>\n",
       "      <td>442131</td>\n",
       "    </tr>\n",
       "    <tr>\n",
       "      <td>2010-03-31</td>\n",
       "      <td>459222</td>\n",
       "    </tr>\n",
       "    <tr>\n",
       "      <td>2010-06-30</td>\n",
       "      <td>456822</td>\n",
       "    </tr>\n",
       "    <tr>\n",
       "      <td>2010-09-30</td>\n",
       "      <td>457806</td>\n",
       "    </tr>\n",
       "    <tr>\n",
       "      <td>2010-12-31</td>\n",
       "      <td>459109</td>\n",
       "    </tr>\n",
       "    <tr>\n",
       "      <td>2011-03-31</td>\n",
       "      <td>460758</td>\n",
       "    </tr>\n",
       "    <tr>\n",
       "      <td>2011-06-30</td>\n",
       "      <td>464788</td>\n",
       "    </tr>\n",
       "    <tr>\n",
       "      <td>2011-09-30</td>\n",
       "      <td>467546</td>\n",
       "    </tr>\n",
       "    <tr>\n",
       "      <td>2011-12-31</td>\n",
       "      <td>470333</td>\n",
       "    </tr>\n",
       "    <tr>\n",
       "      <td>2012-03-31</td>\n",
       "      <td>470365</td>\n",
       "    </tr>\n",
       "    <tr>\n",
       "      <td>2012-06-30</td>\n",
       "      <td>469149</td>\n",
       "    </tr>\n",
       "    <tr>\n",
       "      <td>2012-09-30</td>\n",
       "      <td>465919</td>\n",
       "    </tr>\n",
       "    <tr>\n",
       "      <td>2012-12-31</td>\n",
       "      <td>463090</td>\n",
       "    </tr>\n",
       "    <tr>\n",
       "      <td>2013-03-31</td>\n",
       "      <td>451077</td>\n",
       "    </tr>\n",
       "    <tr>\n",
       "      <td>2013-06-30</td>\n",
       "      <td>451516</td>\n",
       "    </tr>\n",
       "    <tr>\n",
       "      <td>2013-09-30</td>\n",
       "      <td>454270</td>\n",
       "    </tr>\n",
       "    <tr>\n",
       "      <td>2013-12-31</td>\n",
       "      <td>456548</td>\n",
       "    </tr>\n",
       "    <tr>\n",
       "      <td>2014-03-31</td>\n",
       "      <td>469920</td>\n",
       "    </tr>\n",
       "    <tr>\n",
       "      <td>2014-06-30</td>\n",
       "      <td>472726</td>\n",
       "    </tr>\n",
       "    <tr>\n",
       "      <td>2014-09-30</td>\n",
       "      <td>475326</td>\n",
       "    </tr>\n",
       "    <tr>\n",
       "      <td>2014-12-31</td>\n",
       "      <td>478413</td>\n",
       "    </tr>\n",
       "    <tr>\n",
       "      <td>2015-03-31</td>\n",
       "      <td>478398</td>\n",
       "    </tr>\n",
       "    <tr>\n",
       "      <td>2015-06-30</td>\n",
       "      <td>477238</td>\n",
       "    </tr>\n",
       "    <tr>\n",
       "      <td>2015-09-30</td>\n",
       "      <td>477330</td>\n",
       "    </tr>\n",
       "    <tr>\n",
       "      <td>2015-12-31</td>\n",
       "      <td>479010</td>\n",
       "    </tr>\n",
       "    <tr>\n",
       "      <td>2016-03-31</td>\n",
       "      <td>482440</td>\n",
       "    </tr>\n",
       "    <tr>\n",
       "      <td>2016-06-30</td>\n",
       "      <td>486436</td>\n",
       "    </tr>\n",
       "    <tr>\n",
       "      <td>2016-09-30</td>\n",
       "      <td>489104</td>\n",
       "    </tr>\n",
       "    <tr>\n",
       "      <td>2016-12-31</td>\n",
       "      <td>491152</td>\n",
       "    </tr>\n",
       "    <tr>\n",
       "      <td>2017-03-31</td>\n",
       "      <td>494544</td>\n",
       "    </tr>\n",
       "    <tr>\n",
       "      <td>2017-06-30</td>\n",
       "      <td>498846</td>\n",
       "    </tr>\n",
       "    <tr>\n",
       "      <td>2017-09-30</td>\n",
       "      <td>504592</td>\n",
       "    </tr>\n",
       "    <tr>\n",
       "      <td>2017-12-31</td>\n",
       "      <td>506578</td>\n",
       "    </tr>\n",
       "    <tr>\n",
       "      <td>2018-03-31</td>\n",
       "      <td>507248</td>\n",
       "    </tr>\n",
       "    <tr>\n",
       "      <td>2018-06-30</td>\n",
       "      <td>506116</td>\n",
       "    </tr>\n",
       "    <tr>\n",
       "      <td>2018-09-30</td>\n",
       "      <td>504318</td>\n",
       "    </tr>\n",
       "    <tr>\n",
       "      <td>2018-12-31</td>\n",
       "      <td>506001</td>\n",
       "    </tr>\n",
       "    <tr>\n",
       "      <td>2019-03-31</td>\n",
       "      <td>496133</td>\n",
       "    </tr>\n",
       "    <tr>\n",
       "      <td>2019-06-30</td>\n",
       "      <td>500158</td>\n",
       "    </tr>\n",
       "    <tr>\n",
       "      <td>2019-09-30</td>\n",
       "      <td>510712</td>\n",
       "    </tr>\n",
       "  </tbody>\n",
       "</table>\n",
       "</div>"
      ],
      "text/plain": [
       "                MA\n",
       "saledate          \n",
       "2007-09-30  441854\n",
       "2007-12-31  441854\n",
       "2008-03-31  441854\n",
       "2008-06-30  441854\n",
       "2008-09-30  451583\n",
       "2008-12-31  440256\n",
       "2009-03-31  442566\n",
       "2009-06-30  446113\n",
       "2009-09-30  440123\n",
       "2009-12-31  442131\n",
       "2010-03-31  459222\n",
       "2010-06-30  456822\n",
       "2010-09-30  457806\n",
       "2010-12-31  459109\n",
       "2011-03-31  460758\n",
       "2011-06-30  464788\n",
       "2011-09-30  467546\n",
       "2011-12-31  470333\n",
       "2012-03-31  470365\n",
       "2012-06-30  469149\n",
       "2012-09-30  465919\n",
       "2012-12-31  463090\n",
       "2013-03-31  451077\n",
       "2013-06-30  451516\n",
       "2013-09-30  454270\n",
       "2013-12-31  456548\n",
       "2014-03-31  469920\n",
       "2014-06-30  472726\n",
       "2014-09-30  475326\n",
       "2014-12-31  478413\n",
       "2015-03-31  478398\n",
       "2015-06-30  477238\n",
       "2015-09-30  477330\n",
       "2015-12-31  479010\n",
       "2016-03-31  482440\n",
       "2016-06-30  486436\n",
       "2016-09-30  489104\n",
       "2016-12-31  491152\n",
       "2017-03-31  494544\n",
       "2017-06-30  498846\n",
       "2017-09-30  504592\n",
       "2017-12-31  506578\n",
       "2018-03-31  507248\n",
       "2018-06-30  506116\n",
       "2018-09-30  504318\n",
       "2018-12-31  506001\n",
       "2019-03-31  496133\n",
       "2019-06-30  500158\n",
       "2019-09-30  510712"
      ]
     },
     "execution_count": 8,
     "metadata": {},
     "output_type": "execute_result"
    }
   ],
   "source": [
    "df_h2"
   ]
  },
  {
   "cell_type": "markdown",
   "metadata": {},
   "source": [
    "## Seasonal decomposition"
   ]
  },
  {
   "cell_type": "code",
   "execution_count": 9,
   "metadata": {},
   "outputs": [],
   "source": [
    "from statsmodels.tsa.seasonal import seasonal_decompose"
   ]
  },
  {
   "cell_type": "code",
   "execution_count": 10,
   "metadata": {},
   "outputs": [],
   "source": [
    "decomposition = seasonal_decompose(df_h2['MA'], model='multiplicative')"
   ]
  },
  {
   "cell_type": "markdown",
   "metadata": {},
   "source": [
    "Decomposed data show the upward trend over yeear and distinct seasonality during each year"
   ]
  },
  {
   "cell_type": "code",
   "execution_count": 13,
   "metadata": {
    "scrolled": true
   },
   "outputs": [
    {
     "data": {
      "image/png": "[encoded data removed]",
      "text/plain": [
       "<Figure size 432x288 with 4 Axes>"
      ]
     },
     "metadata": {
      "needs_background": "light"
     },
     "output_type": "display_data"
    }
   ],
   "source": [
    "decomposition.plot();"
   ]
  },
  {
   "cell_type": "code",
   "execution_count": 16,
   "metadata": {
    "scrolled": false
   },
   "outputs": [
    {
     "data": {
      "image/png": "[encoded data removed]",
      "text/plain": [
       "<Figure size 864x576 with 1 Axes>"
      ]
     },
     "metadata": {
      "needs_background": "light"
     },
     "output_type": "display_data"
    }
   ],
   "source": [
    "decomposition.seasonal.plot(figsize = (12,8));"
   ]
  },
  {
   "cell_type": "markdown",
   "metadata": {},
   "source": [
    "## EDA"
   ]
  },
  {
   "cell_type": "code",
   "execution_count": 18,
   "metadata": {},
   "outputs": [
    {
     "data": {
      "text/plain": [
       "49"
      ]
     },
     "execution_count": 18,
     "metadata": {},
     "output_type": "execute_result"
    }
   ],
   "source": [
    "# number of data points\n",
    "len(df_h2['MA'])"
   ]
  },
  {
   "cell_type": "markdown",
   "metadata": {},
   "source": [
    "Data is not completed for the first and the last year. In year 2007 we have only data for two last quarters and in year 2019 we have only data for 3 first quarters. For data completeness I removed data in 2007.\n",
    "My train data will till end of 2018 and my test data will be year 2019."
   ]
  },
  {
   "cell_type": "code",
   "execution_count": 20,
   "metadata": {
    "scrolled": true
   },
   "outputs": [
    {
     "data": {
      "text/html": [
       "<div>\n",
       "<style scoped>\n",
       "    .dataframe tbody tr th:only-of-type {\n",
       "        vertical-align: middle;\n",
       "    }\n",
       "\n",
       "    .dataframe tbody tr th {\n",
       "        vertical-align: top;\n",
       "    }\n",
       "\n",
       "    .dataframe thead th {\n",
       "        text-align: right;\n",
       "    }\n",
       "</style>\n",
       "<table border=\"1\" class=\"dataframe\">\n",
       "  <thead>\n",
       "    <tr style=\"text-align: right;\">\n",
       "      <th></th>\n",
       "      <th>MA</th>\n",
       "    </tr>\n",
       "    <tr>\n",
       "      <th>saledate</th>\n",
       "      <th></th>\n",
       "    </tr>\n",
       "  </thead>\n",
       "  <tbody>\n",
       "    <tr>\n",
       "      <td>2007-09-30</td>\n",
       "      <td>441854</td>\n",
       "    </tr>\n",
       "    <tr>\n",
       "      <td>2007-12-31</td>\n",
       "      <td>441854</td>\n",
       "    </tr>\n",
       "    <tr>\n",
       "      <td>2008-03-31</td>\n",
       "      <td>441854</td>\n",
       "    </tr>\n",
       "    <tr>\n",
       "      <td>2008-06-30</td>\n",
       "      <td>441854</td>\n",
       "    </tr>\n",
       "    <tr>\n",
       "      <td>2008-09-30</td>\n",
       "      <td>451583</td>\n",
       "    </tr>\n",
       "    <tr>\n",
       "      <td>2008-12-31</td>\n",
       "      <td>440256</td>\n",
       "    </tr>\n",
       "    <tr>\n",
       "      <td>2009-03-31</td>\n",
       "      <td>442566</td>\n",
       "    </tr>\n",
       "    <tr>\n",
       "      <td>2009-06-30</td>\n",
       "      <td>446113</td>\n",
       "    </tr>\n",
       "  </tbody>\n",
       "</table>\n",
       "</div>"
      ],
      "text/plain": [
       "                MA\n",
       "saledate          \n",
       "2007-09-30  441854\n",
       "2007-12-31  441854\n",
       "2008-03-31  441854\n",
       "2008-06-30  441854\n",
       "2008-09-30  451583\n",
       "2008-12-31  440256\n",
       "2009-03-31  442566\n",
       "2009-06-30  446113"
      ]
     },
     "execution_count": 20,
     "metadata": {},
     "output_type": "execute_result"
    }
   ],
   "source": [
    "df_h2[:8]"
   ]
  },
  {
   "cell_type": "code",
   "execution_count": 21,
   "metadata": {
    "scrolled": true
   },
   "outputs": [
    {
     "data": {
      "text/html": [
       "<div>\n",
       "<style scoped>\n",
       "    .dataframe tbody tr th:only-of-type {\n",
       "        vertical-align: middle;\n",
       "    }\n",
       "\n",
       "    .dataframe tbody tr th {\n",
       "        vertical-align: top;\n",
       "    }\n",
       "\n",
       "    .dataframe thead th {\n",
       "        text-align: right;\n",
       "    }\n",
       "</style>\n",
       "<table border=\"1\" class=\"dataframe\">\n",
       "  <thead>\n",
       "    <tr style=\"text-align: right;\">\n",
       "      <th></th>\n",
       "      <th>MA</th>\n",
       "    </tr>\n",
       "    <tr>\n",
       "      <th>saledate</th>\n",
       "      <th></th>\n",
       "    </tr>\n",
       "  </thead>\n",
       "  <tbody>\n",
       "    <tr>\n",
       "      <td>2018-09-30</td>\n",
       "      <td>504318</td>\n",
       "    </tr>\n",
       "    <tr>\n",
       "      <td>2018-12-31</td>\n",
       "      <td>506001</td>\n",
       "    </tr>\n",
       "    <tr>\n",
       "      <td>2019-03-31</td>\n",
       "      <td>496133</td>\n",
       "    </tr>\n",
       "    <tr>\n",
       "      <td>2019-06-30</td>\n",
       "      <td>500158</td>\n",
       "    </tr>\n",
       "    <tr>\n",
       "      <td>2019-09-30</td>\n",
       "      <td>510712</td>\n",
       "    </tr>\n",
       "  </tbody>\n",
       "</table>\n",
       "</div>"
      ],
      "text/plain": [
       "                MA\n",
       "saledate          \n",
       "2018-09-30  504318\n",
       "2018-12-31  506001\n",
       "2019-03-31  496133\n",
       "2019-06-30  500158\n",
       "2019-09-30  510712"
      ]
     },
     "execution_count": 21,
     "metadata": {},
     "output_type": "execute_result"
    }
   ],
   "source": [
    "df_h2.tail()"
   ]
  },
  {
   "cell_type": "code",
   "execution_count": 26,
   "metadata": {},
   "outputs": [],
   "source": [
    "# removing data for 2007\n",
    "df_h2 = df_h2[2:]"
   ]
  }
 ],
 "metadata": {
  "kernelspec": {
   "display_name": "Python 3",
   "language": "python",
   "name": "python3"
  },
  "language_info": {
   "codemirror_mode": {
    "name": "ipython",
    "version": 3
   },
   "file_extension": ".py",
   "mimetype": "text/x-python",
   "name": "python",
   "nbconvert_exporter": "python",
   "pygments_lexer": "ipython3",
   "version": "3.7.4"
  }
 },
 "nbformat": 4,
 "nbformat_minor": 2
}
